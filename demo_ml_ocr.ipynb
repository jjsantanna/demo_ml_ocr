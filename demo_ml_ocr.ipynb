{
 "cells": [
  {
   "cell_type": "code",
   "execution_count": 1,
   "id": "f2ef49eb-7219-4cfd-a3e4-9c34a74eb89c",
   "metadata": {},
   "outputs": [],
   "source": [
    "# !pip install keras tensorflow\n",
    "from keras.datasets import mnist"
   ]
  },
  {
   "cell_type": "code",
   "execution_count": 2,
   "id": "e47c1f58-4866-4620-b7f6-caa5778d78a0",
   "metadata": {},
   "outputs": [],
   "source": [
    "(X_train, y_train), (X_test, y_test) = mnist.load_data()"
   ]
  },
  {
   "cell_type": "code",
   "execution_count": 3,
   "id": "56f7d480-4225-45b3-9aaf-36fd202543df",
   "metadata": {},
   "outputs": [],
   "source": [
    "from keras.models import Sequential\n",
    "from keras.layers import Dense, Dropout, Flatten, Conv2D, MaxPooling2D\n",
    "from tensorflow.keras.utils import to_categorical"
   ]
  },
  {
   "cell_type": "code",
   "execution_count": 4,
   "id": "e3dcb067-4ec0-48fe-be88-52b2945cff58",
   "metadata": {},
   "outputs": [
    {
     "name": "stderr",
     "output_type": "stream",
     "text": [
      "/Users/santannajj/Desktop/ml_ocr_chatgpt_me/myenv/lib/python3.12/site-packages/keras/src/layers/reshaping/flatten.py:37: UserWarning: Do not pass an `input_shape`/`input_dim` argument to a layer. When using Sequential models, prefer using an `Input(shape)` object as the first layer in the model instead.\n",
      "  super().__init__(**kwargs)\n"
     ]
    }
   ],
   "source": [
    "\n",
    "\n",
    "# Preprocess data\n",
    "X_train = X_train.astype('float32') / 255.0\n",
    "X_test = X_test.astype('float32') / 255.0\n",
    "y_train = to_categorical(y_train)\n",
    "y_test = to_categorical(y_test)\n",
    "\n",
    "# Build model\n",
    "model = Sequential([\n",
    "    Flatten(input_shape=(28, 28)),\n",
    "    Dense(128, activation='relu'),\n",
    "    Dense(10, activation='softmax')\n",
    "])\n",
    "\n",
    "model.compile(optimizer='adam', loss='categorical_crossentropy', metrics=['accuracy'])"
   ]
  },
  {
   "cell_type": "code",
   "execution_count": 8,
   "id": "7e56bf21-519b-43d5-b39d-044b78bf0104",
   "metadata": {},
   "outputs": [
    {
     "name": "stdout",
     "output_type": "stream",
     "text": [
      "Before preprocessing:\n",
      "X_train shape: (60000, 28, 28), dtype: uint8\n",
      "y_train shape: (60000,), dtype: uint8\n",
      "\n",
      "After preprocessing:\n",
      "X_train shape: (60000, 784), dtype: float32\n",
      "y_train shape: (60000, 10), dtype: float64\n",
      "Epoch 1/10\n"
     ]
    },
    {
     "name": "stderr",
     "output_type": "stream",
     "text": [
      "/Users/santannajj/Desktop/ml_ocr_chatgpt_me/myenv/lib/python3.12/site-packages/keras/src/layers/core/dense.py:87: UserWarning: Do not pass an `input_shape`/`input_dim` argument to a layer. When using Sequential models, prefer using an `Input(shape)` object as the first layer in the model instead.\n",
      "  super().__init__(activity_regularizer=activity_regularizer, **kwargs)\n"
     ]
    },
    {
     "name": "stdout",
     "output_type": "stream",
     "text": [
      "\u001b[1m422/422\u001b[0m \u001b[32m━━━━━━━━━━━━━━━━━━━━\u001b[0m\u001b[37m\u001b[0m \u001b[1m1s\u001b[0m 989us/step - accuracy: 0.8237 - loss: 0.6285 - val_accuracy: 0.9568 - val_loss: 0.1491\n",
      "Epoch 2/10\n",
      "\u001b[1m422/422\u001b[0m \u001b[32m━━━━━━━━━━━━━━━━━━━━\u001b[0m\u001b[37m\u001b[0m \u001b[1m0s\u001b[0m 896us/step - accuracy: 0.9537 - loss: 0.1566 - val_accuracy: 0.9710 - val_loss: 0.1007\n",
      "Epoch 3/10\n",
      "\u001b[1m422/422\u001b[0m \u001b[32m━━━━━━━━━━━━━━━━━━━━\u001b[0m\u001b[37m\u001b[0m \u001b[1m0s\u001b[0m 956us/step - accuracy: 0.9697 - loss: 0.1015 - val_accuracy: 0.9748 - val_loss: 0.0916\n",
      "Epoch 4/10\n",
      "\u001b[1m422/422\u001b[0m \u001b[32m━━━━━━━━━━━━━━━━━━━━\u001b[0m\u001b[37m\u001b[0m \u001b[1m0s\u001b[0m 892us/step - accuracy: 0.9774 - loss: 0.0755 - val_accuracy: 0.9748 - val_loss: 0.0797\n",
      "Epoch 5/10\n",
      "\u001b[1m422/422\u001b[0m \u001b[32m━━━━━━━━━━━━━━━━━━━━\u001b[0m\u001b[37m\u001b[0m \u001b[1m0s\u001b[0m 883us/step - accuracy: 0.9822 - loss: 0.0590 - val_accuracy: 0.9755 - val_loss: 0.0812\n",
      "Epoch 6/10\n",
      "\u001b[1m422/422\u001b[0m \u001b[32m━━━━━━━━━━━━━━━━━━━━\u001b[0m\u001b[37m\u001b[0m \u001b[1m0s\u001b[0m 924us/step - accuracy: 0.9865 - loss: 0.0463 - val_accuracy: 0.9765 - val_loss: 0.0805\n",
      "Epoch 7/10\n",
      "\u001b[1m422/422\u001b[0m \u001b[32m━━━━━━━━━━━━━━━━━━━━\u001b[0m\u001b[37m\u001b[0m \u001b[1m0s\u001b[0m 900us/step - accuracy: 0.9885 - loss: 0.0381 - val_accuracy: 0.9788 - val_loss: 0.0733\n",
      "Epoch 8/10\n",
      "\u001b[1m422/422\u001b[0m \u001b[32m━━━━━━━━━━━━━━━━━━━━\u001b[0m\u001b[37m\u001b[0m \u001b[1m0s\u001b[0m 888us/step - accuracy: 0.9915 - loss: 0.0288 - val_accuracy: 0.9772 - val_loss: 0.0805\n",
      "Epoch 9/10\n",
      "\u001b[1m422/422\u001b[0m \u001b[32m━━━━━━━━━━━━━━━━━━━━\u001b[0m\u001b[37m\u001b[0m \u001b[1m0s\u001b[0m 898us/step - accuracy: 0.9931 - loss: 0.0240 - val_accuracy: 0.9787 - val_loss: 0.0765\n",
      "Epoch 10/10\n",
      "\u001b[1m422/422\u001b[0m \u001b[32m━━━━━━━━━━━━━━━━━━━━\u001b[0m\u001b[37m\u001b[0m \u001b[1m0s\u001b[0m 964us/step - accuracy: 0.9943 - loss: 0.0200 - val_accuracy: 0.9780 - val_loss: 0.0806\n",
      "\n",
      "Test accuracy: 0.9796\n"
     ]
    }
   ],
   "source": [
    "import numpy as np\n",
    "from tensorflow.keras.datasets import mnist\n",
    "from tensorflow.keras.models import Sequential\n",
    "from tensorflow.keras.layers import Dense, Flatten\n",
    "from tensorflow.keras.utils import to_categorical\n",
    "\n",
    "# Load data\n",
    "(X_train, y_train), (X_test, y_test) = mnist.load_data()\n",
    "\n",
    "# Print data details before preprocessing\n",
    "print(\"Before preprocessing:\")\n",
    "print(f\"X_train shape: {X_train.shape}, dtype: {X_train.dtype}\")\n",
    "print(f\"y_train shape: {y_train.shape}, dtype: {y_train.dtype}\")\n",
    "\n",
    "# Normalize the input data\n",
    "X_train = X_train.astype('float32') / 255.0\n",
    "X_test = X_test.astype('float32') / 255.0\n",
    "\n",
    "# Reshape input data\n",
    "X_train = X_train.reshape(X_train.shape[0], -1)\n",
    "X_test = X_test.reshape(X_test.shape[0], -1)\n",
    "\n",
    "# Convert labels to one-hot encoding\n",
    "y_train = to_categorical(y_train, 10)\n",
    "y_test = to_categorical(y_test, 10)\n",
    "\n",
    "# Print data details after preprocessing\n",
    "print(\"\\nAfter preprocessing:\")\n",
    "print(f\"X_train shape: {X_train.shape}, dtype: {X_train.dtype}\")\n",
    "print(f\"y_train shape: {y_train.shape}, dtype: {y_train.dtype}\")\n",
    "\n",
    "# Build model\n",
    "model = Sequential([\n",
    "    Dense(128, activation='relu', input_shape=(784,)),\n",
    "    Dense(64, activation='relu'),\n",
    "    Dense(10, activation='softmax')\n",
    "])\n",
    "\n",
    "model.compile(optimizer='adam', loss='categorical_crossentropy', metrics=['accuracy'])\n",
    "\n",
    "# Train model\n",
    "batch_size = 128\n",
    "epochs = 10\n",
    "\n",
    "try:\n",
    "    history = model.fit(X_train, y_train, batch_size=batch_size, epochs=epochs, \n",
    "                        validation_split=0.1, verbose=1)\n",
    "    \n",
    "    # Evaluate the model\n",
    "    test_loss, test_accuracy = model.evaluate(X_test, y_test, verbose=0)\n",
    "    print(f\"\\nTest accuracy: {test_accuracy:.4f}\")\n",
    "except Exception as e:\n",
    "    print(f\"An error occurred: {e}\")\n",
    "    print(\"Shapes after attempted fit:\")\n",
    "    print(f\"X_train shape: {X_train.shape}\")\n",
    "    print(f\"y_train shape: {y_train.shape}\")"
   ]
  },
  {
   "cell_type": "code",
   "execution_count": 9,
   "id": "df292b85-37ce-433d-9c4e-47d2189684f9",
   "metadata": {},
   "outputs": [],
   "source": [
    "# !pip install matplotlib"
   ]
  },
  {
   "cell_type": "code",
   "execution_count": 34,
   "id": "dc1a3274-7d59-4c56-bf01-a30124a5998a",
   "metadata": {},
   "outputs": [
    {
     "data": {
      "image/png": "[encoded data removed]",
      "text/plain": [
       "<Figure size 640x480 with 1 Axes>"
      ]
     },
     "metadata": {},
     "output_type": "display_data"
    }
   ],
   "source": [
    "import numpy as np\n",
    "import matplotlib.pyplot as plt\n",
    "\n",
    "# Randomly select a sample\n",
    "sample_index = np.random.randint(0, len(X_test))\n",
    "\n",
    "sample_image = X_test[sample_index]\n",
    "sample_label = y_test[sample_index]\n",
    "\n",
    "# Reshape the sample image for prediction\n",
    "sample_image = sample_image.reshape(1, 28, 28, 1)\n",
    "\n",
    "plt.imshow(sample_image.reshape(28, 28), cmap='gray')\n",
    "plt.axis('off')\n",
    "plt.show()"
   ]
  },
  {
   "cell_type": "code",
   "execution_count": 35,
   "id": "4448ea16-a416-4593-ad87-f43e7b353cf5",
   "metadata": {},
   "outputs": [
    {
     "name": "stdout",
     "output_type": "stream",
     "text": [
      "\u001b[1m1/1\u001b[0m \u001b[32m━━━━━━━━━━━━━━━━━━━━\u001b[0m\u001b[37m\u001b[0m \u001b[1m0s\u001b[0m 10ms/step\n"
     ]
    },
    {
     "data": {
      "text/html": [
       "<img src='blob:https://www.bing.com/3e6ffbb5-d19c-42dc-8349-be4676769b7a' alt='bot'><div style='font-size: 64px; font-weight: bold; color: #FF0000; text-shadow: 2px 2px 4px #CCCCCC; margin: 20px;'>This is the number: 0</div>"
      ],
      "text/plain": [
       "<IPython.core.display.HTML object>"
      ]
     },
     "metadata": {},
     "output_type": "display_data"
    },
    {
     "data": {
      "text/html": [
       "\n",
       "                <audio  controls=\"controls\" autoplay=\"autoplay\">\n",
       "                    <source src=\"data:audio/x-wav;base64,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\" type=\"audio/x-wav\" />\n",
       "                    Your browser does not support the audio element.\n",
       "                </audio>\n",
       "              "
      ],
      "text/plain": [
       "<IPython.lib.display.Audio object>"
      ]
     },
     "execution_count": 35,
     "metadata": {},
     "output_type": "execute_result"
    }
   ],
   "source": [
    "# The ACTUAL prediction of the sample image\n",
    "sample_image_reshaped = sample_image.reshape(1, 784)  # Reshape to match the expected input shape\n",
    "prediction = model.predict(sample_image_reshaped)\n",
    "predicted_label = np.argmax(prediction)\n",
    "\n",
    "# !pip install gtts\n",
    "from gtts import gTTS  # Google Text to Speech\n",
    "from IPython.display import display, HTML, Audio\n",
    "\n",
    "# Generate HTML with colored predicted label\n",
    "html = f\"<div style='font-size: 64px; font-weight: bold; color: #FF0000; text-shadow: 2px 2px 4px #CCCCCC; margin: 20px;'>This is the number: {predicted_label}</div>\"\n",
    "html = f\"<img src='blob:https://www.bing.com/3e6ffbb5-d19c-42dc-8349-be4676769b7a' alt='bot'>\" + html\n",
    "display(HTML(html))\n",
    "\n",
    "# Text to Speech\n",
    "tts = gTTS(\"This is the number\" + str(predicted_label))\n",
    "tts.save('1.wav')\n",
    "sound_file = '1.wav'\n",
    "Audio(sound_file, autoplay=True)"
   ]
  },
  {
   "cell_type": "code",
   "execution_count": null,
   "id": "1f154910-4e72-45d9-b88f-bc7d6e3e4fa4",
   "metadata": {},
   "outputs": [],
   "source": []
  }
 ],
 "metadata": {
  "kernelspec": {
   "display_name": "Python 3 (ipykernel)",
   "language": "python",
   "name": "python3"
  },
  "language_info": {
   "codemirror_mode": {
    "name": "ipython",
    "version": 3
   },
   "file_extension": ".py",
   "mimetype": "text/x-python",
   "name": "python",
   "nbconvert_exporter": "python",
   "pygments_lexer": "ipython3",
   "version": "3.12.4"
  }
 },
 "nbformat": 4,
 "nbformat_minor": 5
}
